{
 "cells": [
  {
   "cell_type": "code",
   "execution_count": 1,
   "id": "31d3dd9b-c7a2-48a0-87b4-f1244a3c7efb",
   "metadata": {},
   "outputs": [],
   "source": [
    "import os\n",
    "import pickle\n",
    "\n",
    "import mediapipe as mp\n",
    "import cv2\n",
    "import matplotlib.pyplot as plt\n",
    "\n",
    "\n",
    "mp_hands = mp.solutions.hands\n",
    "mp_drawing = mp.solutions.drawing_utils\n",
    "mp_drawing_styles = mp.solutions.drawing_styles\n",
    "\n",
    "hands = mp_hands.Hands(static_image_mode=True, min_detection_confidence=0.3)\n",
    "\n",
    "DATA_DIR = './data'\n",
    "\n",
    "data = []\n",
    "labels = []\n",
    "                #for normalization purposes btw\n",
    "for dir_ in os.listdir(DATA_DIR):\n",
    "    for img_path in os.listdir(os.path.join(DATA_DIR, dir_)):\n",
    "        data_aux = []\n",
    "\n",
    "        x_ = []\n",
    "        y_ = []\n",
    "\n",
    "        img = cv2.imread(os.path.join(DATA_DIR, dir_, img_path))\n",
    "        img_rgb = cv2.cvtColor(img, cv2.COLOR_BGR2RGB)\n",
    "\n",
    "        results = hands.process(img_rgb)\n",
    "        if results.multi_hand_landmarks:\n",
    "            for hand_landmarks in results.multi_hand_landmarks:\n",
    "                for i in range(len(hand_landmarks.landmark)):\n",
    "                    x = hand_landmarks.landmark[i].x\n",
    "                    y = hand_landmarks.landmark[i].y\n",
    "\n",
    "                    x_.append(x)\n",
    "                    y_.append(y)\n",
    "\n",
    "                for i in range(len(hand_landmarks.landmark)):\n",
    "                    x = hand_landmarks.landmark[i].x\n",
    "                    y = hand_landmarks.landmark[i].y\n",
    "                    data_aux.append(x - min(x_))\n",
    "                    data_aux.append(y - min(y_))\n",
    "\n",
    "            data.append(data_aux)\n",
    "            labels.append(dir_)\n",
    "\n",
    "f = open('data.pickle', 'wb')\n",
    "pickle.dump({'data': data, 'labels': labels}, f)\n",
    "f.close()"
   ]
  },
  {
   "cell_type": "code",
   "execution_count": 6,
   "id": "be8a3989-9515-477d-be47-a3edf39ca454",
   "metadata": {},
   "outputs": [
    {
     "data": {
      "text/plain": [
       "[0.19268400967121124,\n",
       " 0.2035275101661682,\n",
       " 0.219606414437294,\n",
       " 0.15813028812408447,\n",
       " 0.23107121884822845,\n",
       " 0.09754383563995361,\n",
       " 0.2263718694448471,\n",
       " 0.0459020733833313,\n",
       " 0.19824250042438507,\n",
       " 0.027843177318572998,\n",
       " 0.17960794270038605,\n",
       " 0.012916862964630127,\n",
       " 0.17130117118358612,\n",
       " 0.0,\n",
       " 0.18414299190044403,\n",
       " 0.0338098406791687,\n",
       " 0.19695328176021576,\n",
       " 0.07056170701980591,\n",
       " 0.1442762166261673,\n",
       " 0.03329646587371826,\n",
       " 0.14655672013759613,\n",
       " 0.04000282287597656,\n",
       " 0.17671404778957367,\n",
       " 0.1017141342163086,\n",
       " 0.19428487122058868,\n",
       " 0.1413869857788086,\n",
       " 0.11601302027702332,\n",
       " 0.06679624319076538,\n",
       " 0.10812334716320038,\n",
       " 0.06174123287200928,\n",
       " 0.14199994504451752,\n",
       " 0.1066550612449646,\n",
       " 0.1669599860906601,\n",
       " 0.14052891731262207,\n",
       " 0.096122607588768,\n",
       " 0.10610884428024292,\n",
       " 0.05910424888134003,\n",
       " 0.08521467447280884,\n",
       " 0.02927444875240326,\n",
       " 0.07841372489929199,\n",
       " 0.0,\n",
       " 0.0672118067741394]"
      ]
     },
     "execution_count": 6,
     "metadata": {},
     "output_type": "execute_result"
    }
   ],
   "source": [
    "data_aux"
   ]
  },
  {
   "cell_type": "code",
   "execution_count": 1,
   "id": "51980a61-7a5c-4b86-8c51-1e859878a466",
   "metadata": {},
   "outputs": [
    {
     "name": "stdout",
     "output_type": "stream",
     "text": [
      "Number of data samples: 2577\n"
     ]
    }
   ],
   "source": [
    "import pickle\n",
    "\n",
    "# Load the dataset\n",
    "with open('data.pickle', 'rb') as file:\n",
    "    dataset = pickle.load(file)\n",
    "\n",
    "data = dataset['data']\n",
    "labels = dataset['labels']\n",
    "\n",
    "# Calculate the number of data samples\n",
    "num_samples = len(data)\n",
    "\n",
    "# Print the number of data samples\n",
    "print(\"Number of data samples:\", num_samples)\n"
   ]
  },
  {
   "cell_type": "code",
   "execution_count": null,
   "id": "23325963",
   "metadata": {},
   "outputs": [],
   "source": []
  }
 ],
 "metadata": {
  "kernelspec": {
   "display_name": "Python 3 (ipykernel)",
   "language": "python",
   "name": "python3"
  },
  "language_info": {
   "codemirror_mode": {
    "name": "ipython",
    "version": 3
   },
   "file_extension": ".py",
   "mimetype": "text/x-python",
   "name": "python",
   "nbconvert_exporter": "python",
   "pygments_lexer": "ipython3",
   "version": "3.11.4"
  }
 },
 "nbformat": 4,
 "nbformat_minor": 5
}
